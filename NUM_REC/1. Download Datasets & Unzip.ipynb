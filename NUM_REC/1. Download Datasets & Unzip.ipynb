{
 "cells": [
  {
   "cell_type": "code",
   "execution_count": 23,
   "id": "bc3d327d",
   "metadata": {},
   "outputs": [],
   "source": [
    "import pathlib "
   ]
  },
  {
   "cell_type": "code",
   "execution_count": 285,
   "id": "826f7b3e",
   "metadata": {},
   "outputs": [],
   "source": [
    "\n",
    "BASE_DIR = pathlib.Path().resolve().parent #Check: /Users/kristoffervarslott/Documents/Python.py/AI_API'\n",
    "NUM_REC_DIR = pathlib.Path().resolve()     #Check: /Users/kristoffervarslott/Documents/Python.py/AI_API/NUM_REC'\n",
    "\n",
    "DATASETS_DIR = BASE_DIR / 'Datasets'\n",
    "\n",
    "DATASETS_NUM_REC = DATASETS_DIR / 'Datasets_NUM_REC'\n",
    "DATASETS_NUM_REC.mkdir(exist_ok = True, parents = True)\n",
    "\n",
    "\n",
    "\n",
    "ZIPS_DIR = DATASETS_NUM_REC / 'Zips'     #Check: /Users/kristoffervarslott/Documents/Python.py/AI_API/Datasets_Num_Rec/Zips\n",
    "ZIPS_DIR.mkdir(exist_ok = True, parents = True)\n",
    "\n",
    "NUM_REC_TRAIN_IMAGE_ZIP_PATH = ZIPS_DIR  / 'num-rec-train-image-dataset.gz'\n",
    "NUM_REC_TRAIN_LABELS_ZIP_PATH = ZIPS_DIR / 'num-rec-train-labels-dataset.gz'\n",
    "\n",
    "NUM_REC_TEST_IMAGEE_ZIP_PATH = ZIPS_DIR  / 'num-rec-test-image-dataset.gz'\n",
    "NUM_REC_TEST_LABELS_ZIP_PATH = ZIPS_DIR  / 'num-rec-test-labels-dataset.gz'\n",
    "\n",
    "\n",
    "\n",
    "EXPORT_DIR = DATASETS_NUM_REC / 'Exports'     #Check: /Users/kristoffervarslott/Documents/Python.py/AI_API/Datasets_Num_Rec/Zips\n",
    "EXPORT_DIR.mkdir(exist_ok = True, parents = True)\n",
    "\n",
    "NUM_CLASSIFIER_DIR = DATASETS_NUM_REC / 'NUM_REC_Classifier'     #Check: /Users/kristoffervarslott/Documents/Python.py/AI_API/Datasets_Num_Rec/Zips\n",
    "NUM_CLASSIFIER_DIR.mkdir(exist_ok = True, parents = True)"
   ]
  },
  {
   "cell_type": "code",
   "execution_count": 128,
   "id": "877f6d8d",
   "metadata": {},
   "outputs": [],
   "source": [
    "\n",
    "#URL of dataset for number recognition from images. \n",
    "NUM_REC_TRAIN_IMAGE_ZIP = 'http://yann.lecun.com/exdb/mnist/train-images-idx3-ubyte.gz'\n",
    "NUM_REC_TRAIN_LABEL_ZIP = 'http://yann.lecun.com/exdb/mnist/train-labels-idx1-ubyte.gz'\n",
    "\n",
    "NUM_REC_TEST_IMAGE_ZIP = 'http://yann.lecun.com/exdb/mnist/t10k-images-idx3-ubyte.gz'\n",
    "NUM_REC_TEST_LABEL_ZIP = 'http://yann.lecun.com/exdb/mnist/t10k-labels-idx1-ubyte.gz'\n"
   ]
  },
  {
   "cell_type": "code",
   "execution_count": 129,
   "id": "28511821",
   "metadata": {},
   "outputs": [
    {
     "name": "stdout",
     "output_type": "stream",
     "text": [
      "  % Total    % Received % Xferd  Average Speed   Time    Time     Time  Current\n",
      "                                 Dload  Upload   Total   Spent    Left  Speed\n",
      "100 9680k  100 9680k    0     0  12.8M      0 --:--:-- --:--:-- --:--:-- 12.8M\n",
      "  % Total    % Received % Xferd  Average Speed   Time    Time     Time  Current\n",
      "                                 Dload  Upload   Total   Spent    Left  Speed\n",
      "100 28881  100 28881    0     0   408k      0 --:--:-- --:--:-- --:--:--  408k\n",
      "  % Total    % Received % Xferd  Average Speed   Time    Time     Time  Current\n",
      "                                 Dload  Upload   Total   Spent    Left  Speed\n",
      "100 1610k  100 1610k    0     0  3946k      0 --:--:-- --:--:-- --:--:-- 3946k\n",
      "  % Total    % Received % Xferd  Average Speed   Time    Time     Time  Current\n",
      "                                 Dload  Upload   Total   Spent    Left  Speed\n",
      "100  4542  100  4542    0     0  58987      0 --:--:-- --:--:-- --:--:-- 58230\n"
     ]
    }
   ],
   "source": [
    "\n",
    "!curl $NUM_REC_TRAIN_IMAGE_ZIP -o $NUM_REC_TRAIN_IMAGE_ZIP_PATH\n",
    "!curl $NUM_REC_TRAIN_LABEL_ZIP -o $NUM_REC_TRAIN_LABELS_ZIP_PATH\n",
    "\n",
    "!curl $NUM_REC_TEST_IMAGE_ZIP -o $NUM_REC_TEST_IMAGEE_ZIP_PATH\n",
    "!curl $NUM_REC_TEST_LABEL_ZIP -o $NUM_REC_TEST_LABELS_ZIP_PATH\n"
   ]
  },
  {
   "cell_type": "code",
   "execution_count": 162,
   "id": "10c4027b",
   "metadata": {},
   "outputs": [
    {
     "name": "stdout",
     "output_type": "stream",
     "text": [
      "/Users/kristoffervarslott/Documents/Python.py/AI_API/Datasets/Datasets_NUM_REC/Zips/num-rec-train-image-dataset.gz\n",
      "/Users/kristoffervarslott/Documents/Python.py/AI_API/Datasets/Datasets_NUM_REC/NUM_REC_Classifier/Train_datasets\n"
     ]
    }
   ],
   "source": [
    "\n",
    "TRAIN_DATASETS_DIR = NUM_CLASSIFIER_DIR / 'Train_datasets'\n",
    "TRAIN_DATASETS_DIR.mkdir(exist_ok = True, parents = True)\n",
    "\n",
    "TEST_DATASETS_DIR = NUM_CLASSIFIER_DIR / 'Test_datasets'\n",
    "TEST_DATASETS_DIR.mkdir(exist_ok = True, parents = True)\n",
    "\n",
    "print(NUM_REC_TRAIN_IMAGE_ZIP_PATH)\n",
    "print(TRAIN_DATASETS_DIR)"
   ]
  },
  {
   "cell_type": "code",
   "execution_count": 133,
   "id": "245bbf3e",
   "metadata": {},
   "outputs": [],
   "source": [
    "!gunzip -f $NUM_REC_TRAIN_IMAGE_ZIP_PATH\n",
    "!gunzip -f $NUM_REC_TRAIN_LABELS_ZIP_PATH\n",
    "!gunzip -f $NUM_REC_TEST_IMAGEE_ZIP_PATH \n",
    "!gunzip -f $NUM_REC_TEST_LABELS_ZIP_PATH\n",
    "\n",
    "!mv ~/Downloads/MyFile.txt ~/Documents/Work/NewFileName.txt"
   ]
  },
  {
   "cell_type": "code",
   "execution_count": 191,
   "id": "f60355c0",
   "metadata": {},
   "outputs": [],
   "source": [
    "for file in ZIPS_DIR.resolve().iterdir():\n",
    "    if not file.stem.startswith('.'):\n",
    "        if 'train' in file.stem:\n",
    "            Transfer_train = TRAIN_DATASETS_DIR/file.stem\n",
    "            !cp $file $Transfer_train\n",
    "        else:\n",
    "            Transfer_test = TEST_DATASETS_DIR/file.stem\n",
    "            !cp $file $Transfer_test"
   ]
  },
  {
   "cell_type": "code",
   "execution_count": 215,
   "id": "67ccddda",
   "metadata": {},
   "outputs": [
    {
     "name": "stdout",
     "output_type": "stream",
     "text": [
      "num-rec-test-image-dataset\n"
     ]
    }
   ],
   "source": [
    "TRAIN_DATASETS_DIR\n",
    "TEST_DATASETS_DIR\n",
    "\n",
    "files_data = []\n",
    "for path in TRAIN_DATASETS_DIR.parent.glob('*'): \n",
    "    for files in path.glob('*'):\n",
    "        files_data.append(files)\n",
    "print(files_data[0].stem)"
   ]
  },
  {
   "cell_type": "code",
   "execution_count": 117,
   "id": "ad4e584f",
   "metadata": {},
   "outputs": [],
   "source": []
  }
 ],
 "metadata": {
  "kernelspec": {
   "display_name": "Python 3 (ipykernel)",
   "language": "python",
   "name": "python3"
  },
  "language_info": {
   "codemirror_mode": {
    "name": "ipython",
    "version": 3
   },
   "file_extension": ".py",
   "mimetype": "text/x-python",
   "name": "python",
   "nbconvert_exporter": "python",
   "pygments_lexer": "ipython3",
   "version": "3.8.9"
  }
 },
 "nbformat": 4,
 "nbformat_minor": 5
}
