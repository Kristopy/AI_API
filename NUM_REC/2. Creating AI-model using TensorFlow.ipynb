{
 "cells": [
  {
   "cell_type": "code",
   "execution_count": 2,
   "id": "bc3d327d",
   "metadata": {},
   "outputs": [],
   "source": [
    "import pathlib "
   ]
  },
  {
   "cell_type": "code",
   "execution_count": 3,
   "id": "826f7b3e",
   "metadata": {},
   "outputs": [],
   "source": [
    "\n",
    "BASE_DIR = pathlib.Path().resolve().parent #Check: /Users/kristoffervarslott/Documents/Python.py/AI_API'\n",
    "NUM_REC_DIR = pathlib.Path().resolve()     #Check: /Users/kristoffervarslott/Documents/Python.py/AI_API/NUM_REC'\n",
    "\n",
    "DATASETS_DIR = BASE_DIR / 'Datasets'\n",
    "\n",
    "DATASETS_NUM_REC = DATASETS_DIR / 'Datasets_NUM_REC'\n",
    "DATASETS_NUM_REC.mkdir(exist_ok = True, parents = True)\n",
    "\n",
    "\n",
    "\n",
    "ZIPS_DIR = DATASETS_NUM_REC / 'Zips'     #Check: /Users/kristoffervarslott/Documents/Python.py/AI_API/Datasets_Num_Rec/Zips\n",
    "ZIPS_DIR.mkdir(exist_ok = True, parents = True)\n",
    "\n",
    "NUM_REC_TRAIN_IMAGE_ZIP_PATH = ZIPS_DIR  / 'num-rec-train-image-dataset.gz'\n",
    "NUM_REC_TRAIN_LABELS_ZIP_PATH = ZIPS_DIR / 'num-rec-train-labels-dataset.gz'\n",
    "\n",
    "NUM_REC_TEST_IMAGEE_ZIP_PATH = ZIPS_DIR  / 'num-rec-test-image-dataset.gz'\n",
    "NUM_REC_TEST_LABELS_ZIP_PATH = ZIPS_DIR  / 'num-rec-test-labels-dataset.gz'\n",
    "\n",
    "\n",
    "\n",
    "EXPORT_DIR = DATASETS_NUM_REC / 'Exports'     #Check: /Users/kristoffervarslott/Documents/Python.py/AI_API/Datasets_Num_Rec/Zips\n",
    "EXPORT_DIR.mkdir(exist_ok = True, parents = True)\n",
    "\n",
    "NUM_CLASSIFIER_DIR = DATASETS_NUM_REC / 'NUM_REC_Classifier'     #Check: /Users/kristoffervarslott/Documents/Python.py/AI_API/Datasets_Num_Rec/Zips\n",
    "NUM_CLASSIFIER_DIR.mkdir(exist_ok = True, parents = True)"
   ]
  },
  {
   "cell_type": "code",
   "execution_count": 4,
   "id": "877f6d8d",
   "metadata": {},
   "outputs": [],
   "source": [
    "\n",
    "#URL of dataset for number recognition from images. \n",
    "NUM_REC_TRAIN_IMAGE_ZIP = 'http://yann.lecun.com/exdb/mnist/train-images-idx3-ubyte.gz'\n",
    "NUM_REC_TRAIN_LABEL_ZIP = 'http://yann.lecun.com/exdb/mnist/train-labels-idx1-ubyte.gz'\n",
    "\n",
    "NUM_REC_TEST_IMAGE_ZIP = 'http://yann.lecun.com/exdb/mnist/t10k-images-idx3-ubyte.gz'\n",
    "NUM_REC_TEST_LABEL_ZIP = 'http://yann.lecun.com/exdb/mnist/t10k-labels-idx1-ubyte.gz'\n"
   ]
  },
  {
   "cell_type": "code",
   "execution_count": 5,
   "id": "28511821",
   "metadata": {},
   "outputs": [
    {
     "name": "stdout",
     "output_type": "stream",
     "text": [
      "  % Total    % Received % Xferd  Average Speed   Time    Time     Time  Current\n",
      "                                 Dload  Upload   Total   Spent    Left  Speed\n",
      "100 9680k  100 9680k    0     0  17.7M      0 --:--:-- --:--:-- --:--:-- 17.7M\n",
      "  % Total    % Received % Xferd  Average Speed   Time    Time     Time  Current\n",
      "                                 Dload  Upload   Total   Spent    Left  Speed\n",
      "100 28881  100 28881    0     0   454k      0 --:--:-- --:--:-- --:--:--  454k\n",
      "  % Total    % Received % Xferd  Average Speed   Time    Time     Time  Current\n",
      "                                 Dload  Upload   Total   Spent    Left  Speed\n",
      "100 1610k  100 1610k    0     0  9700k      0 --:--:-- --:--:-- --:--:-- 9700k\n",
      "  % Total    % Received % Xferd  Average Speed   Time    Time     Time  Current\n",
      "                                 Dload  Upload   Total   Spent    Left  Speed\n",
      "100  4542  100  4542    0     0  75700      0 --:--:-- --:--:-- --:--:-- 75700\n"
     ]
    }
   ],
   "source": [
    "\n",
    "!curl $NUM_REC_TRAIN_IMAGE_ZIP -o $NUM_REC_TRAIN_IMAGE_ZIP_PATH\n",
    "!curl $NUM_REC_TRAIN_LABEL_ZIP -o $NUM_REC_TRAIN_LABELS_ZIP_PATH\n",
    "\n",
    "!curl $NUM_REC_TEST_IMAGE_ZIP -o $NUM_REC_TEST_IMAGEE_ZIP_PATH\n",
    "!curl $NUM_REC_TEST_LABEL_ZIP -o $NUM_REC_TEST_LABELS_ZIP_PATH\n"
   ]
  },
  {
   "cell_type": "code",
   "execution_count": 6,
   "id": "10c4027b",
   "metadata": {},
   "outputs": [
    {
     "name": "stdout",
     "output_type": "stream",
     "text": [
      "/Users/kristoffervarslott/Documents/Python.py/AI_API/Datasets/Datasets_NUM_REC/Zips/num-rec-train-image-dataset.gz\n",
      "/Users/kristoffervarslott/Documents/Python.py/AI_API/Datasets/Datasets_NUM_REC/NUM_REC_Classifier/Train_datasets\n"
     ]
    }
   ],
   "source": [
    "\n",
    "TRAIN_DATASETS_DIR = NUM_CLASSIFIER_DIR / 'Train_datasets'\n",
    "TRAIN_DATASETS_DIR.mkdir(exist_ok = True, parents = True)\n",
    "\n",
    "TEST_DATASETS_DIR = NUM_CLASSIFIER_DIR / 'Test_datasets'\n",
    "TEST_DATASETS_DIR.mkdir(exist_ok = True, parents = True)\n",
    "\n",
    "print(NUM_REC_TRAIN_IMAGE_ZIP_PATH)\n",
    "print(TRAIN_DATASETS_DIR)"
   ]
  },
  {
   "cell_type": "code",
   "execution_count": 7,
   "id": "245bbf3e",
   "metadata": {},
   "outputs": [],
   "source": [
    "!gunzip -f $NUM_REC_TRAIN_IMAGE_ZIP_PATH\n",
    "!gunzip -f $NUM_REC_TRAIN_LABELS_ZIP_PATH\n",
    "!gunzip -f $NUM_REC_TEST_IMAGEE_ZIP_PATH \n",
    "!gunzip -f $NUM_REC_TEST_LABELS_ZIP_PATH"
   ]
  },
  {
   "cell_type": "code",
   "execution_count": 8,
   "id": "f60355c0",
   "metadata": {},
   "outputs": [],
   "source": [
    "for file in ZIPS_DIR.resolve().iterdir():\n",
    "    if not file.stem.startswith('.'):\n",
    "        if 'train' in file.stem:\n",
    "            Transfer_train = TRAIN_DATASETS_DIR/file.stem\n",
    "            !cp $file $Transfer_train\n",
    "        else:\n",
    "            Transfer_test = TEST_DATASETS_DIR/file.stem\n",
    "            !cp $file $Transfer_test"
   ]
  },
  {
   "cell_type": "code",
   "execution_count": 9,
   "id": "67ccddda",
   "metadata": {},
   "outputs": [
    {
     "name": "stdout",
     "output_type": "stream",
     "text": [
      "num-rec-test-image-dataset\n"
     ]
    }
   ],
   "source": [
    "TRAIN_DATASETS_DIR\n",
    "TEST_DATASETS_DIR\n",
    "\n",
    "files_data = []\n",
    "for path in TRAIN_DATASETS_DIR.parent.glob('*'): \n",
    "    for files in path.glob('*'):\n",
    "        files_data.append(files)\n",
    "print(files_data[0].stem)"
   ]
  },
  {
   "cell_type": "code",
   "execution_count": 10,
   "id": "55b72f02",
   "metadata": {},
   "outputs": [],
   "source": [
    "import tensorflow as tf\n",
    "import pandas as pd"
   ]
  },
  {
   "cell_type": "code",
   "execution_count": 11,
   "id": "846120c8",
   "metadata": {},
   "outputs": [],
   "source": [
    "mnist = tf.keras.datasets.mnist\n",
    "imdb  = tf.keras.datasets.imdb"
   ]
  },
  {
   "cell_type": "code",
   "execution_count": 12,
   "id": "6b8f1724",
   "metadata": {},
   "outputs": [],
   "source": [
    "\n",
    "#X_data separated as usually by train and test - approx 0.33 devided. X_data are images formed by matrices with\n",
    "#values ranging from 0-255 grey-scale --> need to normalize for convinience \n",
    "\n",
    "#y_data are int values of images at same indeces. \n",
    "\n",
    "(X_train, y_train), (X_test, y_test) = mnist.load_data()"
   ]
  },
  {
   "cell_type": "code",
   "execution_count": 13,
   "id": "c9fc5782",
   "metadata": {},
   "outputs": [
    {
     "name": "stdout",
     "output_type": "stream",
     "text": [
      "0\n"
     ]
    },
    {
     "data": {
      "image/png": "[encoded data removed]",
      "text/plain": [
       "<Figure size 432x288 with 1 Axes>"
      ]
     },
     "metadata": {
      "needs_background": "light"
     },
     "output_type": "display_data"
    }
   ],
   "source": [
    "import matplotlib.pyplot as plt\n",
    "import random\n",
    "random_idx = random.randint(0,len(X_train))\n",
    "\n",
    "#Good overview over X_data and y_data \n",
    "plt.imshow(X_train[random_idx], cmap=plt.cm.binary) #Everything works fine. A matrix of number from 0-9\n",
    "print(y_train[random_idx])"
   ]
  },
  {
   "cell_type": "code",
   "execution_count": 14,
   "id": "0fff3a1a",
   "metadata": {},
   "outputs": [],
   "source": [
    "#Normalizing input values to range from 0-1 --> by dividing by max value of 255. \n",
    "X_train =X_train/255\n",
    "X_test =X_test/255\n",
    "#Be carefull --> If this cell is re-run without re-running upper cells, it will divide the current X_data on 255 again."
   ]
  },
  {
   "cell_type": "code",
   "execution_count": 16,
   "id": "0e28bf8b",
   "metadata": {},
   "outputs": [],
   "source": [
    "model = tf.keras.models.Sequential()\n",
    "model.add(tf.keras.layers.Flatten())\n",
    "model.add(tf.keras.layers.Dense(128, activation=tf.nn.relu))\n",
    "model.add(tf.keras.layers.Dense(128, activation=tf.nn.relu))\n",
    "model.add(tf.keras.layers.Dense(10,activation=tf.nn.softmax))\n",
    "\n",
    "model.compile(optimizer='adam', \n",
    "              loss='sparse_categorical_crossentropy', \n",
    "              metrics=['accuracy'])"
   ]
  },
  {
   "cell_type": "code",
   "execution_count": 17,
   "id": "949b5ed2",
   "metadata": {},
   "outputs": [
    {
     "name": "stderr",
     "output_type": "stream",
     "text": [
      "2021-10-31 22:16:52.278901: I tensorflow/compiler/mlir/mlir_graph_optimization_pass.cc:185] None of the MLIR Optimization Passes are enabled (registered 2)\n"
     ]
    },
    {
     "name": "stdout",
     "output_type": "stream",
     "text": [
      "Epoch 1/6\n",
      "1875/1875 [==============================] - 3s 1ms/step - loss: 0.2320 - accuracy: 0.9318\n",
      "Epoch 2/6\n",
      "1875/1875 [==============================] - 2s 1ms/step - loss: 0.0970 - accuracy: 0.9701\n",
      "Epoch 3/6\n",
      "1875/1875 [==============================] - 2s 1ms/step - loss: 0.0672 - accuracy: 0.9791\n",
      "Epoch 4/6\n",
      "1875/1875 [==============================] - 2s 1ms/step - loss: 0.0523 - accuracy: 0.9834\n",
      "Epoch 5/6\n",
      "1875/1875 [==============================] - 2s 1ms/step - loss: 0.0396 - accuracy: 0.9871\n",
      "Epoch 6/6\n",
      "1875/1875 [==============================] - 2s 1ms/step - loss: 0.0333 - accuracy: 0.9889\n"
     ]
    },
    {
     "data": {
      "text/plain": [
       "<keras.callbacks.History at 0x166390250>"
      ]
     },
     "execution_count": 17,
     "metadata": {},
     "output_type": "execute_result"
    }
   ],
   "source": [
    "model.fit(X_train, y_train, epochs=6)"
   ]
  },
  {
   "cell_type": "code",
   "execution_count": 1,
   "id": "67361c20",
   "metadata": {},
   "outputs": [
    {
     "ename": "NameError",
     "evalue": "name 'model' is not defined",
     "output_type": "error",
     "traceback": [
      "\u001b[0;31m---------------------------------------------------------------------------\u001b[0m",
      "\u001b[0;31mNameError\u001b[0m                                 Traceback (most recent call last)",
      "\u001b[0;32m/var/folders/mj/wcl2fbds1kgb_7_f8c49l9l80000gn/T/ipykernel_46322/2467907357.py\u001b[0m in \u001b[0;36m<module>\u001b[0;34m\u001b[0m\n\u001b[0;32m----> 1\u001b[0;31m \u001b[0mval_loss\u001b[0m\u001b[0;34m,\u001b[0m \u001b[0mval_acc\u001b[0m \u001b[0;34m=\u001b[0m \u001b[0mmodel\u001b[0m\u001b[0;34m.\u001b[0m\u001b[0mevaluate\u001b[0m\u001b[0;34m(\u001b[0m\u001b[0mX_test\u001b[0m\u001b[0;34m,\u001b[0m \u001b[0my_test\u001b[0m\u001b[0;34m)\u001b[0m\u001b[0;34m\u001b[0m\u001b[0;34m\u001b[0m\u001b[0m\n\u001b[0m\u001b[1;32m      2\u001b[0m \u001b[0mprint\u001b[0m\u001b[0;34m(\u001b[0m\u001b[0mval_loss\u001b[0m\u001b[0;34m,\u001b[0m \u001b[0mval_acc\u001b[0m\u001b[0;34m)\u001b[0m\u001b[0;34m\u001b[0m\u001b[0;34m\u001b[0m\u001b[0m\n",
      "\u001b[0;31mNameError\u001b[0m: name 'model' is not defined"
     ]
    }
   ],
   "source": [
    "val_loss, val_acc = model.evaluate(X_test, y_test)\n",
    "print(val_loss, val_acc)"
   ]
  },
  {
   "cell_type": "code",
   "execution_count": 30,
   "id": "b84c1ab7",
   "metadata": {},
   "outputs": [],
   "source": [
    "#Model saved and stored to correct path.\n",
    "MODEL_EXPORT_PATH = EXPORT_DIR / 'Num_Rec_Model.h5'\n",
    "model.save(str(MODEL_EXPORT_PATH))"
   ]
  },
  {
   "cell_type": "code",
   "execution_count": 61,
   "id": "805b5626",
   "metadata": {},
   "outputs": [
    {
     "name": "stdout",
     "output_type": "stream",
     "text": [
      "Predictions: 4\n",
      "Correct Output:  4\n"
     ]
    },
    {
     "data": {
      "text/plain": [
       "<matplotlib.image.AxesImage at 0x1688a7640>"
      ]
     },
     "execution_count": 61,
     "metadata": {},
     "output_type": "execute_result"
    },
    {
     "data": {
      "image/png": "[encoded data removed]",
      "text/plain": [
       "<Figure size 432x288 with 1 Axes>"
      ]
     },
     "metadata": {
      "needs_background": "light"
     },
     "output_type": "display_data"
    }
   ],
   "source": [
    "#Test model by running predictions: \n",
    "from tensorflow.keras.models import load_model\n",
    "import numpy as np\n",
    "random_idx = random.randint(0,len(X_test))\n",
    "\n",
    "cp_model = load_model(MODEL_EXPORT_PATH)\n",
    "predictions = cp_model.predict([X_test])\n",
    "\n",
    "\n",
    "print('Predictions:', np.argmax(predictions[random_idx]))\n",
    "print('Correct Output: ', y_test[random_idx])\n",
    "plt.imshow(X_test[random_idx], cmap=plt.cm.binary) #Everything works fine. A matrix of number from 0-9\n"
   ]
  },
  {
   "cell_type": "code",
   "execution_count": null,
   "id": "b0e49573",
   "metadata": {},
   "outputs": [],
   "source": []
  }
 ],
 "metadata": {
  "kernelspec": {
   "display_name": "Python 3 (ipykernel)",
   "language": "python",
   "name": "python3"
  },
  "language_info": {
   "codemirror_mode": {
    "name": "ipython",
    "version": 3
   },
   "file_extension": ".py",
   "mimetype": "text/x-python",
   "name": "python",
   "nbconvert_exporter": "python",
   "pygments_lexer": "ipython3",
   "version": "3.8.9"
  }
 },
 "nbformat": 4,
 "nbformat_minor": 5
}
