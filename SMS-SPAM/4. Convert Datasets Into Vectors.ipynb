{
 "cells": [
  {
   "cell_type": "code",
   "execution_count": 2,
   "id": "327f71ff",
   "metadata": {},
   "outputs": [],
   "source": [
    "import pathlib\n",
    "import pandas as pd\n",
    "import random \n",
    "\n",
    "BASE_DIR = pathlib.Path().resolve().parent #Check: /Users/kristoffervarslott/Documents/Python.py/AI_API\n",
    "SMS_SPAM_DIR = pathlib.Path().resolve()    #Check: /Users/kristoffervarslott/Documents/Python.py/AI_API/SMS-SPAM\n",
    "DATASETS_DIR = BASE_DIR / 'Datasets' #Check: /Users/kristoffervarslott/Documents/Python.py/AI_API/Datasets\n",
    "\n",
    "ZIPS_DIR = DATASETS_DIR / 'Zips'     #Check: /Users/kristoffervarslott/Documents/Python.py/AI_API/Datasets/Zips\n",
    "ZIPS_DIR.mkdir(exist_ok = True, parents = True)\n",
    "\n",
    "#Spam-Classifier folder: START\n",
    "SPAM_CLASSIFIER_DIR = DATASETS_DIR / 'Spam-Classifier'\n",
    "\n",
    "SMS_SPAM_DIR = SPAM_CLASSIFIER_DIR / 'Sms-Spam'\n",
    "SMS_SPAM_DIR.mkdir(exist_ok = True, parents = True)\n",
    "\n",
    "YOUTUBE_SPAM_DIR = SPAM_CLASSIFIER_DIR / 'Youtube-Spam'\n",
    "YOUTUBE_SPAM_DIR.mkdir(exist_ok = True, parents = True)\n",
    "#Spam-Classifier folder : END\n",
    "\n",
    "#Exports folder: START\n",
    "EXPORT_DIR = DATASETS_DIR / 'Exports'\n",
    "EXPORT_DIR.mkdir(exist_ok = True, parents = True)\n",
    "SPAM_DATASETS_DIR = EXPORT_DIR / 'Spam_Dataset.csv'\n",
    "#Exports folder: END"
   ]
  },
  {
   "cell_type": "code",
   "execution_count": 18,
   "id": "6130aac4",
   "metadata": {},
   "outputs": [
    {
     "data": {
      "text/html": [
       "<div>\n",
       "<style scoped>\n",
       "    .dataframe tbody tr th:only-of-type {\n",
       "        vertical-align: middle;\n",
       "    }\n",
       "\n",
       "    .dataframe tbody tr th {\n",
       "        vertical-align: top;\n",
       "    }\n",
       "\n",
       "    .dataframe thead th {\n",
       "        text-align: right;\n",
       "    }\n",
       "</style>\n",
       "<table border=\"1\" class=\"dataframe\">\n",
       "  <thead>\n",
       "    <tr style=\"text-align: right;\">\n",
       "      <th></th>\n",
       "      <th>CONTENT</th>\n",
       "      <th>CLASS</th>\n",
       "      <th>LABEL</th>\n",
       "      <th>SOURCE</th>\n",
       "    </tr>\n",
       "  </thead>\n",
       "  <tbody>\n",
       "    <tr>\n",
       "      <th>0</th>\n",
       "      <td>Go until jurong point, crazy.. Available only ...</td>\n",
       "      <td>0</td>\n",
       "      <td>ham</td>\n",
       "      <td>sms-spam</td>\n",
       "    </tr>\n",
       "    <tr>\n",
       "      <th>1</th>\n",
       "      <td>Ok lar... Joking wif u oni...</td>\n",
       "      <td>0</td>\n",
       "      <td>ham</td>\n",
       "      <td>sms-spam</td>\n",
       "    </tr>\n",
       "    <tr>\n",
       "      <th>2</th>\n",
       "      <td>Free entry in 2 a wkly comp to win FA Cup fina...</td>\n",
       "      <td>1</td>\n",
       "      <td>spam</td>\n",
       "      <td>sms-spam</td>\n",
       "    </tr>\n",
       "    <tr>\n",
       "      <th>3</th>\n",
       "      <td>U dun say so early hor... U c already then say...</td>\n",
       "      <td>0</td>\n",
       "      <td>ham</td>\n",
       "      <td>sms-spam</td>\n",
       "    </tr>\n",
       "    <tr>\n",
       "      <th>4</th>\n",
       "      <td>Nah I don't think he goes to usf, he lives aro...</td>\n",
       "      <td>0</td>\n",
       "      <td>ham</td>\n",
       "      <td>sms-spam</td>\n",
       "    </tr>\n",
       "    <tr>\n",
       "      <th>...</th>\n",
       "      <td>...</td>\n",
       "      <td>...</td>\n",
       "      <td>...</td>\n",
       "      <td>...</td>\n",
       "    </tr>\n",
       "    <tr>\n",
       "      <th>7523</th>\n",
       "      <td>How can this have 2 billion views when there's...</td>\n",
       "      <td>0</td>\n",
       "      <td>ham</td>\n",
       "      <td>Spam-youtube</td>\n",
       "    </tr>\n",
       "    <tr>\n",
       "      <th>7524</th>\n",
       "      <td>I don't now why I'm watching this in 2014﻿</td>\n",
       "      <td>0</td>\n",
       "      <td>ham</td>\n",
       "      <td>Spam-youtube</td>\n",
       "    </tr>\n",
       "    <tr>\n",
       "      <th>7525</th>\n",
       "      <td>subscribe to me for call of duty vids and give...</td>\n",
       "      <td>1</td>\n",
       "      <td>spam</td>\n",
       "      <td>Spam-youtube</td>\n",
       "    </tr>\n",
       "    <tr>\n",
       "      <th>7526</th>\n",
       "      <td>hi guys please my android photo editor downloa...</td>\n",
       "      <td>1</td>\n",
       "      <td>spam</td>\n",
       "      <td>Spam-youtube</td>\n",
       "    </tr>\n",
       "    <tr>\n",
       "      <th>7527</th>\n",
       "      <td>The first billion viewed this because they tho...</td>\n",
       "      <td>0</td>\n",
       "      <td>ham</td>\n",
       "      <td>Spam-youtube</td>\n",
       "    </tr>\n",
       "  </tbody>\n",
       "</table>\n",
       "<p>7528 rows × 4 columns</p>\n",
       "</div>"
      ],
      "text/plain": [
       "                                                CONTENT  CLASS LABEL  \\\n",
       "0     Go until jurong point, crazy.. Available only ...      0   ham   \n",
       "1                         Ok lar... Joking wif u oni...      0   ham   \n",
       "2     Free entry in 2 a wkly comp to win FA Cup fina...      1  spam   \n",
       "3     U dun say so early hor... U c already then say...      0   ham   \n",
       "4     Nah I don't think he goes to usf, he lives aro...      0   ham   \n",
       "...                                                 ...    ...   ...   \n",
       "7523  How can this have 2 billion views when there's...      0   ham   \n",
       "7524         I don't now why I'm watching this in 2014﻿      0   ham   \n",
       "7525  subscribe to me for call of duty vids and give...      1  spam   \n",
       "7526  hi guys please my android photo editor downloa...      1  spam   \n",
       "7527  The first billion viewed this because they tho...      0   ham   \n",
       "\n",
       "            SOURCE  \n",
       "0         sms-spam  \n",
       "1         sms-spam  \n",
       "2         sms-spam  \n",
       "3         sms-spam  \n",
       "4         sms-spam  \n",
       "...            ...  \n",
       "7523  Spam-youtube  \n",
       "7524  Spam-youtube  \n",
       "7525  Spam-youtube  \n",
       "7526  Spam-youtube  \n",
       "7527  Spam-youtube  \n",
       "\n",
       "[7528 rows x 4 columns]"
      ]
     },
     "execution_count": 18,
     "metadata": {},
     "output_type": "execute_result"
    }
   ],
   "source": [
    "df = pd.read_csv(SPAM_DATASETS_DIR)"
   ]
  },
  {
   "cell_type": "code",
   "execution_count": 5,
   "id": "7af55304",
   "metadata": {},
   "outputs": [],
   "source": [
    "#Declaring both CONTENT and CLASS to list for easy interpreting with AI\n",
    "CONTENT = df['CONTENT'].tolist() \n",
    "CLASS = df['CLASS'].tolist()\n",
    "LABEL = df['LABEL'].tolist()\n",
    "\n",
    "label_legend = {'ham': 0, 'spam': 1}\n",
    "label_legend_inverted = {f\"{v}\": k for k, v in label_legend.items()}\n"
   ]
  },
  {
   "cell_type": "code",
   "execution_count": 6,
   "id": "fae0a302",
   "metadata": {},
   "outputs": [],
   "source": [
    "random_idx = random.randint(0, len(CLASS))\n",
    "\n",
    "\n",
    "#Assert test to see if indexing is correct displaced through df dataframe. \n",
    "#Testing both CONTENT and LABEL\\CLASS settings. \n",
    "assert CONTENT[random_idx] == df.iloc[random_idx].CONTENT\n",
    "assert LABEL[random_idx] == df.iloc[random_idx].LABEL\n",
    "assert CLASS[random_idx] == df.iloc[random_idx].CLASS\n"
   ]
  },
  {
   "cell_type": "code",
   "execution_count": 7,
   "id": "2d89b1ad",
   "metadata": {},
   "outputs": [],
   "source": [
    "from tensorflow.keras.preprocessing.text import Tokenizer"
   ]
  },
  {
   "cell_type": "code",
   "execution_count": 8,
   "id": "0a68e4c0",
   "metadata": {},
   "outputs": [],
   "source": [
    "MAX_NUM_WORDS = 280"
   ]
  },
  {
   "cell_type": "code",
   "execution_count": 9,
   "id": "94ed49ca",
   "metadata": {},
   "outputs": [],
   "source": [
    "tokenizer = Tokenizer (num_words=MAX_NUM_WORDS)\n",
    "tokenizer.fit_on_texts(CONTENT)\n",
    "sequences = tokenizer.texts_to_sequences(CONTENT)"
   ]
  },
  {
   "cell_type": "code",
   "execution_count": 10,
   "id": "acf2aef7",
   "metadata": {},
   "outputs": [],
   "source": [
    "word_index = tokenizer.word_index"
   ]
  },
  {
   "cell_type": "code",
   "execution_count": 11,
   "id": "a6da5143",
   "metadata": {},
   "outputs": [],
   "source": [
    "from tensorflow.keras.preprocessing.sequence import pad_sequences"
   ]
  },
  {
   "cell_type": "code",
   "execution_count": 12,
   "id": "c700e01b",
   "metadata": {},
   "outputs": [],
   "source": [
    "MAX_SEQ_LEN = 300"
   ]
  },
  {
   "cell_type": "code",
   "execution_count": 13,
   "id": "b844101e",
   "metadata": {},
   "outputs": [],
   "source": [
    "X = pad_sequences(sequences, maxlen = MAX_SEQ_LEN)"
   ]
  },
  {
   "cell_type": "code",
   "execution_count": 14,
   "id": "62f6688c",
   "metadata": {},
   "outputs": [],
   "source": [
    "from tensorflow.keras.utils import to_categorical\n",
    "import numpy as np"
   ]
  },
  {
   "cell_type": "code",
   "execution_count": 16,
   "id": "4a55e778",
   "metadata": {},
   "outputs": [],
   "source": [
    "CLASS_ARRAY = np.asarray(CLASS)"
   ]
  },
  {
   "cell_type": "code",
   "execution_count": 17,
   "id": "ffc3fc0c",
   "metadata": {},
   "outputs": [],
   "source": [
    "y = to_categorical(CLASS_ARRAY)"
   ]
  }
 ],
 "metadata": {
  "kernelspec": {
   "display_name": "Python 3 (ipykernel)",
   "language": "python",
   "name": "python3"
  },
  "language_info": {
   "codemirror_mode": {
    "name": "ipython",
    "version": 3
   },
   "file_extension": ".py",
   "mimetype": "text/x-python",
   "name": "python",
   "nbconvert_exporter": "python",
   "pygments_lexer": "ipython3",
   "version": "3.8.9"
  }
 },
 "nbformat": 4,
 "nbformat_minor": 5
}
