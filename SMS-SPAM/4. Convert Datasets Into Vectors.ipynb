{
 "cells": [
  {
   "cell_type": "code",
   "execution_count": 2,
   "id": "327f71ff",
   "metadata": {},
   "outputs": [],
   "source": [
    "import pathlib\n",
    "import pandas as pd\n",
    "import random \n",
    "\n",
    "BASE_DIR = pathlib.Path().resolve().parent #Check: /Users/kristoffervarslott/Documents/Python.py/AI_API\n",
    "SMS_SPAM_DIR = pathlib.Path().resolve()    #Check: /Users/kristoffervarslott/Documents/Python.py/AI_API/SMS-SPAM\n",
    "DATASETS_DIR = BASE_DIR / 'Datasets' #Check: /Users/kristoffervarslott/Documents/Python.py/AI_API/Datasets\n",
    "\n",
    "ZIPS_DIR = DATASETS_DIR / 'Zips'     #Check: /Users/kristoffervarslott/Documents/Python.py/AI_API/Datasets/Zips\n",
    "ZIPS_DIR.mkdir(exist_ok = True, parents = True)\n",
    "\n",
    "#Spam-Classifier folder: START\n",
    "SPAM_CLASSIFIER_DIR = DATASETS_DIR / 'Spam-Classifier'\n",
    "\n",
    "SMS_SPAM_DIR = SPAM_CLASSIFIER_DIR / 'Sms-Spam'\n",
    "SMS_SPAM_DIR.mkdir(exist_ok = True, parents = True)\n",
    "\n",
    "YOUTUBE_SPAM_DIR = SPAM_CLASSIFIER_DIR / 'Youtube-Spam'\n",
    "YOUTUBE_SPAM_DIR.mkdir(exist_ok = True, parents = True)\n",
    "#Spam-Classifier folder : END\n",
    "\n",
    "#Exports folder: START\n",
    "EXPORT_DIR = DATASETS_DIR / 'Exports'\n",
    "EXPORT_DIR.mkdir(exist_ok = True, parents = True)\n",
    "SPAM_DATASETS_DIR = EXPORT_DIR / 'Spam_Dataset.csv'\n",
    "#Exports folder: END"
   ]
  },
  {
   "cell_type": "code",
   "execution_count": 4,
   "id": "6130aac4",
   "metadata": {},
   "outputs": [],
   "source": [
    "df = pd.read_csv(SPAM_DATASETS_DIR)\n"
   ]
  },
  {
   "cell_type": "code",
   "execution_count": 5,
   "id": "7af55304",
   "metadata": {},
   "outputs": [],
   "source": [
    "#Declaring both CONTENT and CLASS to list for easy interpreting with AI\n",
    "CONTENT = df['CONTENT'].tolist() \n",
    "CLASS = df['CLASS'].tolist()\n",
    "LABEL = df['LABEL'].tolist()\n",
    "\n",
    "label_legend = {'ham': 0, 'spam': 1}\n",
    "label_legend_inverted = {f\"{v}\": k for k, v in label_legend.items()}\n"
   ]
  },
  {
   "cell_type": "code",
   "execution_count": 6,
   "id": "fae0a302",
   "metadata": {},
   "outputs": [],
   "source": [
    "random_idx = random.randint(0, len(CLASS))\n",
    "\n",
    "\n",
    "#Assert test to see if indexing is correct displaced through df dataframe. \n",
    "#Testing both CONTENT and LABEL\\CLASS settings. \n",
    "assert CONTENT[random_idx] == df.iloc[random_idx].CONTENT\n",
    "assert LABEL[random_idx] == df.iloc[random_idx].LABEL\n",
    "assert CLASS[random_idx] == df.iloc[random_idx].CLASS\n"
   ]
  },
  {
   "cell_type": "code",
   "execution_count": 7,
   "id": "2d89b1ad",
   "metadata": {},
   "outputs": [],
   "source": [
    "from tensorflow.keras.preprocessing.text import Tokenizer"
   ]
  },
  {
   "cell_type": "code",
   "execution_count": 8,
   "id": "0a68e4c0",
   "metadata": {},
   "outputs": [],
   "source": [
    "MAX_NUM_WORDS = 280"
   ]
  },
  {
   "cell_type": "code",
   "execution_count": 9,
   "id": "94ed49ca",
   "metadata": {},
   "outputs": [],
   "source": [
    "tokenizer = Tokenizer (num_words=MAX_NUM_WORDS)\n",
    "tokenizer.fit_on_texts(CONTENT)\n",
    "sequences = tokenizer.texts_to_sequences(CONTENT)"
   ]
  },
  {
   "cell_type": "code",
   "execution_count": 10,
   "id": "acf2aef7",
   "metadata": {},
   "outputs": [],
   "source": [
    "word_index = tokenizer.word_index"
   ]
  },
  {
   "cell_type": "code",
   "execution_count": 11,
   "id": "a6da5143",
   "metadata": {},
   "outputs": [],
   "source": [
    "from tensorflow.keras.preprocessing.sequence import pad_sequences"
   ]
  },
  {
   "cell_type": "code",
   "execution_count": 12,
   "id": "c700e01b",
   "metadata": {},
   "outputs": [],
   "source": [
    "MAX_SEQ_LEN = 300"
   ]
  },
  {
   "cell_type": "code",
   "execution_count": 13,
   "id": "b844101e",
   "metadata": {},
   "outputs": [],
   "source": [
    "X = pad_sequences(sequences, maxlen = MAX_SEQ_LEN)"
   ]
  },
  {
   "cell_type": "code",
   "execution_count": 14,
   "id": "62f6688c",
   "metadata": {},
   "outputs": [],
   "source": [
    "from tensorflow.keras.utils import to_categorical\n",
    "import numpy as np"
   ]
  },
  {
   "cell_type": "code",
   "execution_count": 16,
   "id": "4a55e778",
   "metadata": {},
   "outputs": [],
   "source": [
    "CLASS_ARRAY = np.asarray(CLASS)"
   ]
  },
  {
   "cell_type": "code",
   "execution_count": 17,
   "id": "ffc3fc0c",
   "metadata": {},
   "outputs": [],
   "source": [
    "y = to_categorical(CLASS_ARRAY)"
   ]
  }
 ],
 "metadata": {
  "kernelspec": {
   "display_name": "Python 3 (ipykernel)",
   "language": "python",
   "name": "python3"
  },
  "language_info": {
   "codemirror_mode": {
    "name": "ipython",
    "version": 3
   },
   "file_extension": ".py",
   "mimetype": "text/x-python",
   "name": "python",
   "nbconvert_exporter": "python",
   "pygments_lexer": "ipython3",
   "version": "3.8.9"
  }
 },
 "nbformat": 4,
 "nbformat_minor": 5
}
