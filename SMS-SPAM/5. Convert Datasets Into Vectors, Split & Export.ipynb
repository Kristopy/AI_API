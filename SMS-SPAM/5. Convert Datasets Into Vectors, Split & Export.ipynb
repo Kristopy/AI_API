{
 "cells": [
  {
   "cell_type": "code",
   "execution_count": 8,
   "id": "327f71ff",
   "metadata": {},
   "outputs": [],
   "source": [
    "import pathlib\n",
    "import pandas as pd\n",
    "import random \n",
    "\n",
    "BASE_DIR = pathlib.Path().resolve().parent #Check: /Users/kristoffervarslott/Documents/Python.py/AI_API\n",
    "SMS_SPAM_DIR = pathlib.Path().resolve()    #Check: /Users/kristoffervarslott/Documents/Python.py/AI_API/SMS-SPAM\n",
    "DATASETS_DIR = BASE_DIR / 'Datasets' #Check: /Users/kristoffervarslott/Documents/Python.py/AI_API/Datasets\n",
    "\n",
    "ZIPS_DIR = DATASETS_DIR / 'Zips'     #Check: /Users/kristoffervarslott/Documents/Python.py/AI_API/Datasets/Zips\n",
    "ZIPS_DIR.mkdir(exist_ok = True, parents = True)\n",
    "\n",
    "#Spam-Classifier folder: START\n",
    "SPAM_CLASSIFIER_DIR = DATASETS_DIR / 'Spam-Classifier'\n",
    "\n",
    "SMS_SPAM_DIR = SPAM_CLASSIFIER_DIR / 'Sms-Spam'\n",
    "SMS_SPAM_DIR.mkdir(exist_ok = True, parents = True)\n",
    "\n",
    "YOUTUBE_SPAM_DIR = SPAM_CLASSIFIER_DIR / 'Youtube-Spam'\n",
    "YOUTUBE_SPAM_DIR.mkdir(exist_ok = True, parents = True)\n",
    "#Spam-Classifier folder : END\n",
    "\n",
    "#Exports folder: START\n",
    "EXPORT_DIR = DATASETS_DIR / 'Exports'\n",
    "EXPORT_DIR.mkdir(exist_ok = True, parents = True)\n",
    "SPAM_DATASETS_DIR = EXPORT_DIR / 'Spam_Dataset.csv'\n",
    "METADATA_EXPORT_PATH = EXPORT_DIR / 'Spam-Metadata.json'\n",
    "TOKENIZER_EXPORT_PATH = EXPORT_DIR / 'Spam-Tokenizer.json'\n",
    "#Exports folder: END"
   ]
  },
  {
   "cell_type": "code",
   "execution_count": 9,
   "id": "6130aac4",
   "metadata": {},
   "outputs": [
    {
     "data": {
      "text/html": [
       "<div>\n",
       "<style scoped>\n",
       "    .dataframe tbody tr th:only-of-type {\n",
       "        vertical-align: middle;\n",
       "    }\n",
       "\n",
       "    .dataframe tbody tr th {\n",
       "        vertical-align: top;\n",
       "    }\n",
       "\n",
       "    .dataframe thead th {\n",
       "        text-align: right;\n",
       "    }\n",
       "</style>\n",
       "<table border=\"1\" class=\"dataframe\">\n",
       "  <thead>\n",
       "    <tr style=\"text-align: right;\">\n",
       "      <th></th>\n",
       "      <th>CONTENT</th>\n",
       "      <th>CLASS</th>\n",
       "      <th>LABEL</th>\n",
       "      <th>SOURCE</th>\n",
       "    </tr>\n",
       "  </thead>\n",
       "  <tbody>\n",
       "    <tr>\n",
       "      <th>0</th>\n",
       "      <td>Go until jurong point, crazy.. Available only ...</td>\n",
       "      <td>0</td>\n",
       "      <td>ham</td>\n",
       "      <td>sms-spam</td>\n",
       "    </tr>\n",
       "    <tr>\n",
       "      <th>1</th>\n",
       "      <td>Ok lar... Joking wif u oni...</td>\n",
       "      <td>0</td>\n",
       "      <td>ham</td>\n",
       "      <td>sms-spam</td>\n",
       "    </tr>\n",
       "    <tr>\n",
       "      <th>2</th>\n",
       "      <td>Free entry in 2 a wkly comp to win FA Cup fina...</td>\n",
       "      <td>1</td>\n",
       "      <td>spam</td>\n",
       "      <td>sms-spam</td>\n",
       "    </tr>\n",
       "    <tr>\n",
       "      <th>3</th>\n",
       "      <td>U dun say so early hor... U c already then say...</td>\n",
       "      <td>0</td>\n",
       "      <td>ham</td>\n",
       "      <td>sms-spam</td>\n",
       "    </tr>\n",
       "    <tr>\n",
       "      <th>4</th>\n",
       "      <td>Nah I don't think he goes to usf, he lives aro...</td>\n",
       "      <td>0</td>\n",
       "      <td>ham</td>\n",
       "      <td>sms-spam</td>\n",
       "    </tr>\n",
       "    <tr>\n",
       "      <th>...</th>\n",
       "      <td>...</td>\n",
       "      <td>...</td>\n",
       "      <td>...</td>\n",
       "      <td>...</td>\n",
       "    </tr>\n",
       "    <tr>\n",
       "      <th>7523</th>\n",
       "      <td>How can this have 2 billion views when there's...</td>\n",
       "      <td>0</td>\n",
       "      <td>ham</td>\n",
       "      <td>Spam-youtube</td>\n",
       "    </tr>\n",
       "    <tr>\n",
       "      <th>7524</th>\n",
       "      <td>I don't now why I'm watching this in 2014﻿</td>\n",
       "      <td>0</td>\n",
       "      <td>ham</td>\n",
       "      <td>Spam-youtube</td>\n",
       "    </tr>\n",
       "    <tr>\n",
       "      <th>7525</th>\n",
       "      <td>subscribe to me for call of duty vids and give...</td>\n",
       "      <td>1</td>\n",
       "      <td>spam</td>\n",
       "      <td>Spam-youtube</td>\n",
       "    </tr>\n",
       "    <tr>\n",
       "      <th>7526</th>\n",
       "      <td>hi guys please my android photo editor downloa...</td>\n",
       "      <td>1</td>\n",
       "      <td>spam</td>\n",
       "      <td>Spam-youtube</td>\n",
       "    </tr>\n",
       "    <tr>\n",
       "      <th>7527</th>\n",
       "      <td>The first billion viewed this because they tho...</td>\n",
       "      <td>0</td>\n",
       "      <td>ham</td>\n",
       "      <td>Spam-youtube</td>\n",
       "    </tr>\n",
       "  </tbody>\n",
       "</table>\n",
       "<p>7528 rows × 4 columns</p>\n",
       "</div>"
      ],
      "text/plain": [
       "                                                CONTENT  CLASS LABEL  \\\n",
       "0     Go until jurong point, crazy.. Available only ...      0   ham   \n",
       "1                         Ok lar... Joking wif u oni...      0   ham   \n",
       "2     Free entry in 2 a wkly comp to win FA Cup fina...      1  spam   \n",
       "3     U dun say so early hor... U c already then say...      0   ham   \n",
       "4     Nah I don't think he goes to usf, he lives aro...      0   ham   \n",
       "...                                                 ...    ...   ...   \n",
       "7523  How can this have 2 billion views when there's...      0   ham   \n",
       "7524         I don't now why I'm watching this in 2014﻿      0   ham   \n",
       "7525  subscribe to me for call of duty vids and give...      1  spam   \n",
       "7526  hi guys please my android photo editor downloa...      1  spam   \n",
       "7527  The first billion viewed this because they tho...      0   ham   \n",
       "\n",
       "            SOURCE  \n",
       "0         sms-spam  \n",
       "1         sms-spam  \n",
       "2         sms-spam  \n",
       "3         sms-spam  \n",
       "4         sms-spam  \n",
       "...            ...  \n",
       "7523  Spam-youtube  \n",
       "7524  Spam-youtube  \n",
       "7525  Spam-youtube  \n",
       "7526  Spam-youtube  \n",
       "7527  Spam-youtube  \n",
       "\n",
       "[7528 rows x 4 columns]"
      ]
     },
     "execution_count": 9,
     "metadata": {},
     "output_type": "execute_result"
    }
   ],
   "source": [
    "df = pd.read_csv(SPAM_DATASETS_DIR)\n",
    "df"
   ]
  },
  {
   "cell_type": "code",
   "execution_count": 10,
   "id": "e6ce0f48",
   "metadata": {},
   "outputs": [],
   "source": [
    "#Declaring both CONTENT and CLASS to list for easy interpreting with AI\n",
    "CONTENT = df['CONTENT'].tolist() \n",
    "CLASS = df['CLASS'].tolist()\n",
    "LABEL = df['LABEL'].tolist()\n",
    "\n",
    "#Classifying them in dict for later use. \n",
    "label_legend = {'ham': 0, 'spam': 1} \n",
    "label_legend_inverted = {f\"{v}\": k for k, v in label_legend.items()}\n"
   ]
  },
  {
   "cell_type": "code",
   "execution_count": 11,
   "id": "81f0cfef",
   "metadata": {},
   "outputs": [],
   "source": [
    "random_idx = random.randint(0, len(CLASS))\n",
    "\n",
    "\n",
    "#Assert test to see if indexing is correct displaced through df dataframe. \n",
    "#Testing both CONTENT and LABEL\\CLASS settings. \n",
    "assert CONTENT[random_idx] == df.iloc[random_idx].CONTENT\n",
    "assert LABEL[random_idx] == df.iloc[random_idx].LABEL\n",
    "assert CLASS[random_idx] == df.iloc[random_idx].CLASS\n"
   ]
  },
  {
   "cell_type": "code",
   "execution_count": 12,
   "id": "ef8ad990",
   "metadata": {},
   "outputs": [],
   "source": [
    "from tensorflow.keras.preprocessing.text import Tokenizer"
   ]
  },
  {
   "cell_type": "code",
   "execution_count": 13,
   "id": "9c45d60a",
   "metadata": {},
   "outputs": [],
   "source": [
    "MAX_NUM_WORDS = 280"
   ]
  },
  {
   "cell_type": "code",
   "execution_count": 14,
   "id": "96c966fb",
   "metadata": {},
   "outputs": [
    {
     "name": "stdout",
     "output_type": "stream",
     "text": [
      "Urgent! call 09066612661 from landline. Your complementary 4* Tenerife Holiday or £10,000 cash await collection SAE T&Cs PO Box 3 WA14 2PX 150ppm 18+ Sender: Hol Offer\n",
      "[257, 26, 47, 18, 56, 37, 196, 209, 104, 129]\n"
     ]
    }
   ],
   "source": [
    "tokenizer = Tokenizer (num_words=MAX_NUM_WORDS)\n",
    "tokenizer.fit_on_texts(CONTENT)\n",
    "sequences = tokenizer.texts_to_sequences(CONTENT)\n",
    "\n",
    "random_idx = random.randint(0, len(CLASS))\n",
    "list_1 = sequences[random_idx]\n",
    "\n",
    "print(CONTENT[random_idx])\n",
    "print(sequences[random_idx])\n"
   ]
  },
  {
   "cell_type": "code",
   "execution_count": null,
   "id": "463e48b2",
   "metadata": {},
   "outputs": [],
   "source": []
  },
  {
   "cell_type": "code",
   "execution_count": 15,
   "id": "070c6dad",
   "metadata": {},
   "outputs": [],
   "source": [
    "word_index = tokenizer.word_index"
   ]
  },
  {
   "cell_type": "code",
   "execution_count": 16,
   "id": "cc4e28fa",
   "metadata": {},
   "outputs": [
    {
     "name": "stdout",
     "output_type": "stream",
     "text": [
      "['urgent', 'call', 'from', 'your', '4', 'or', '000', 'cash', 't', '3']\n"
     ]
    }
   ],
   "source": [
    "\n",
    "listOfKeys = []\n",
    "for i in list_1:\n",
    "    for (key, value) in word_index.items():\n",
    "        if value == i:\n",
    "            listOfKeys.append(key)      \n",
    "print(listOfKeys)\n"
   ]
  },
  {
   "cell_type": "code",
   "execution_count": 17,
   "id": "f62a76f6",
   "metadata": {},
   "outputs": [],
   "source": [
    "from tensorflow.keras.preprocessing.sequence import pad_sequences"
   ]
  },
  {
   "cell_type": "code",
   "execution_count": 18,
   "id": "e5c0e11f",
   "metadata": {},
   "outputs": [],
   "source": [
    "MAX_SEQ_LEN = 280"
   ]
  },
  {
   "cell_type": "code",
   "execution_count": 19,
   "id": "385eff74",
   "metadata": {},
   "outputs": [],
   "source": [
    "#Creating X-data by using pad_sequences - For matching length of text and vectorizing them according\n",
    "#to number of iterations a word is used. \n",
    "X = pad_sequences(sequences, maxlen = MAX_SEQ_LEN) #Features"
   ]
  },
  {
   "cell_type": "code",
   "execution_count": 20,
   "id": "d3647bf8",
   "metadata": {},
   "outputs": [],
   "source": [
    "from tensorflow.keras.utils import to_categorical\n",
    "import numpy as np"
   ]
  },
  {
   "cell_type": "code",
   "execution_count": 21,
   "id": "efc0fde4",
   "metadata": {},
   "outputs": [],
   "source": [
    "CLASS_INT = np.asarray(CLASS)\n",
    "CLASS_INT\n",
    "y = to_categorical(CLASS_INT) #Outputs"
   ]
  },
  {
   "cell_type": "code",
   "execution_count": 22,
   "id": "9535d6ad",
   "metadata": {},
   "outputs": [],
   "source": [
    "from sklearn.model_selection import train_test_split"
   ]
  },
  {
   "cell_type": "code",
   "execution_count": 23,
   "id": "0eac5821",
   "metadata": {},
   "outputs": [],
   "source": [
    "X_train, X_test, y_train, y_test = train_test_split(X, y, test_size=0.33, random_state= 42)"
   ]
  },
  {
   "cell_type": "code",
   "execution_count": 24,
   "id": "4ad38dad",
   "metadata": {},
   "outputs": [],
   "source": [
    "import pickle"
   ]
  },
  {
   "cell_type": "code",
   "execution_count": 76,
   "id": "7cfffda7",
   "metadata": {},
   "outputs": [
    {
     "data": {
      "text/plain": [
       "1090335"
      ]
     },
     "execution_count": 76,
     "metadata": {},
     "output_type": "execute_result"
    }
   ],
   "source": [
    "training_data = {\n",
    "    'X_train':X_train,\n",
    "    'X_test':X_test,\n",
    "    'y_train':y_train,\n",
    "    'y_test':y_test, \n",
    "    'max_words': MAX_NUM_WORDS, \n",
    "    'max_seq_len': MAX_SEQ_LEN, \n",
    "    'label_legend': label_legend,\n",
    "    'label_legend_inverted': label_legend_inverted,\n",
    "    'tokenizer': tokenizer \n",
    "}\n",
    "\n",
    "tokenizer_json = tokenizer.to_json()\n",
    "TOKENIZER_EXPORT_PATH.write_text(tokenizer_json) #Loading TOKENIZER DATA TO CORRECT PATH AS JSON"
   ]
  },
  {
   "cell_type": "code",
   "execution_count": 52,
   "id": "95cfa58c",
   "metadata": {},
   "outputs": [
    {
     "data": {
      "text/plain": [
       "{'label_legend_inverted': {'0': 'ham', '1': 'spam'},\n",
       " 'label_legend': {'ham': 0, 'spam': 1},\n",
       " 'max_words': 280,\n",
       " 'max_seq_len': 280}"
      ]
     },
     "execution_count": 52,
     "metadata": {},
     "output_type": "execute_result"
    }
   ],
   "source": [
    "METADATA = {\n",
    "    'label_legend_inverted': label_legend_inverted,\n",
    "    'label_legend': label_legend,\n",
    "    'max_words': MAX_NUM_WORDS, \n",
    "    'max_seq_len': MAX_SEQ_LEN, \n",
    "}\n",
    "METADATA"
   ]
  },
  {
   "cell_type": "code",
   "execution_count": 48,
   "id": "61fdfe60",
   "metadata": {},
   "outputs": [],
   "source": [
    "import json"
   ]
  },
  {
   "cell_type": "code",
   "execution_count": 57,
   "id": "22da022a",
   "metadata": {},
   "outputs": [],
   "source": [
    "with open (METADATA_EXPORT_PATH, \"w\", encoding=\"utf8\") as f:\n",
    "    json.dump(METADATA, f)\n"
   ]
  },
  {
   "cell_type": "code",
   "execution_count": 74,
   "id": "7b5c489f",
   "metadata": {},
   "outputs": [
    {
     "ename": "AttributeError",
     "evalue": "'str' object has no attribute 'keys'",
     "output_type": "error",
     "traceback": [
      "\u001b[0;31m---------------------------------------------------------------------------\u001b[0m",
      "\u001b[0;31mAttributeError\u001b[0m                            Traceback (most recent call last)",
      "\u001b[0;32m/var/folders/mj/wcl2fbds1kgb_7_f8c49l9l80000gn/T/ipykernel_65882/4278417730.py\u001b[0m in \u001b[0;36m<module>\u001b[0;34m\u001b[0m\n\u001b[1;32m      1\u001b[0m \u001b[0;32mwith\u001b[0m \u001b[0mopen\u001b[0m \u001b[0;34m(\u001b[0m\u001b[0mTOKENIZER_EXPORT_PATH\u001b[0m\u001b[0;34m,\u001b[0m \u001b[0;34m\"w\"\u001b[0m\u001b[0;34m,\u001b[0m \u001b[0mencoding\u001b[0m\u001b[0;34m=\u001b[0m\u001b[0;34m\"utf8\"\u001b[0m\u001b[0;34m)\u001b[0m \u001b[0;32mas\u001b[0m \u001b[0mf\u001b[0m\u001b[0;34m:\u001b[0m\u001b[0;34m\u001b[0m\u001b[0;34m\u001b[0m\u001b[0m\n\u001b[1;32m      2\u001b[0m     \u001b[0mjson\u001b[0m\u001b[0;34m.\u001b[0m\u001b[0mdump\u001b[0m\u001b[0;34m(\u001b[0m\u001b[0mtokenizer_json\u001b[0m\u001b[0;34m,\u001b[0m \u001b[0mf\u001b[0m\u001b[0;34m)\u001b[0m\u001b[0;34m\u001b[0m\u001b[0;34m\u001b[0m\u001b[0m\n\u001b[0;32m----> 3\u001b[0;31m \u001b[0mlen\u001b[0m\u001b[0;34m(\u001b[0m\u001b[0mtokenizer_json\u001b[0m\u001b[0;34m.\u001b[0m\u001b[0mkeys\u001b[0m\u001b[0;34m(\u001b[0m\u001b[0;34m)\u001b[0m\u001b[0;34m)\u001b[0m\u001b[0;34m\u001b[0m\u001b[0;34m\u001b[0m\u001b[0m\n\u001b[0m\u001b[1;32m      4\u001b[0m \u001b[0;34m\u001b[0m\u001b[0m\n",
      "\u001b[0;31mAttributeError\u001b[0m: 'str' object has no attribute 'keys'"
     ]
    }
   ],
   "source": [
    "\n"
   ]
  },
  {
   "cell_type": "code",
   "execution_count": null,
   "id": "04906961",
   "metadata": {},
   "outputs": [],
   "source": []
  },
  {
   "cell_type": "code",
   "execution_count": null,
   "id": "f58eae3d",
   "metadata": {},
   "outputs": [],
   "source": []
  }
 ],
 "metadata": {
  "kernelspec": {
   "display_name": "Python 3 (ipykernel)",
   "language": "python",
   "name": "python3"
  },
  "language_info": {
   "codemirror_mode": {
    "name": "ipython",
    "version": 3
   },
   "file_extension": ".py",
   "mimetype": "text/x-python",
   "name": "python",
   "nbconvert_exporter": "python",
   "pygments_lexer": "ipython3",
   "version": "3.8.9"
  }
 },
 "nbformat": 4,
 "nbformat_minor": 5
}
