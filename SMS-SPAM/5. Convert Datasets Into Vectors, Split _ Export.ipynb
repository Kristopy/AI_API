{
 "cells": [
  {
   "cell_type": "code",
   "execution_count": 164,
   "id": "327f71ff",
   "metadata": {},
   "outputs": [],
   "source": [
    "import pathlib\n",
    "import pandas as pd\n",
    "import random \n",
    "\n",
    "BASE_DIR = pathlib.Path().resolve().parent #Check: /Users/kristoffervarslott/Documents/Python.py/AI_API\n",
    "SMS_SPAM_DIR = pathlib.Path().resolve()    #Check: /Users/kristoffervarslott/Documents/Python.py/AI_API/SMS-SPAM\n",
    "DATASETS_DIR = BASE_DIR / 'Datasets' #Check: /Users/kristoffervarslott/Documents/Python.py/AI_API/Datasets\n",
    "\n",
    "ZIPS_DIR = DATASETS_DIR / 'Zips'     #Check: /Users/kristoffervarslott/Documents/Python.py/AI_API/Datasets/Zips\n",
    "ZIPS_DIR.mkdir(exist_ok = True, parents = True)\n",
    "\n",
    "#Spam-Classifier folder: START\n",
    "SPAM_CLASSIFIER_DIR = DATASETS_DIR / 'Spam-Classifier'\n",
    "\n",
    "SMS_SPAM_DIR = SPAM_CLASSIFIER_DIR / 'Sms-Spam'\n",
    "SMS_SPAM_DIR.mkdir(exist_ok = True, parents = True)\n",
    "\n",
    "YOUTUBE_SPAM_DIR = SPAM_CLASSIFIER_DIR / 'Youtube-Spam'\n",
    "YOUTUBE_SPAM_DIR.mkdir(exist_ok = True, parents = True)\n",
    "#Spam-Classifier folder : END\n",
    "\n",
    "#Exports folder: START\n",
    "EXPORT_DIR = DATASETS_DIR / 'Exports'\n",
    "EXPORT_DIR.mkdir(exist_ok = True, parents = True)\n",
    "SPAM_DATASETS_DIR = EXPORT_DIR / 'Spam_Dataset.csv'\n",
    "METADATA_EXPORT_PATH = EXPORT_DIR / 'Spam-Metadata.json'\n",
    "METADATA_EXPORT_PATH_pkl = EXPORT_DIR / 'Spam-Metadata.pkl'\n",
    "TOKENIZER_EXPORT_PATH = EXPORT_DIR / 'Spam-Tokenizer.json'\n",
    "#Exports folder: END"
   ]
  },
  {
   "cell_type": "code",
   "execution_count": 165,
   "id": "6130aac4",
   "metadata": {},
   "outputs": [],
   "source": [
    "df = pd.read_csv(SPAM_DATASETS_DIR)\n"
   ]
  },
  {
   "cell_type": "code",
   "execution_count": 166,
   "id": "e6ce0f48",
   "metadata": {},
   "outputs": [],
   "source": [
    "#Declaring both CONTENT and CLASS to list for easy interpreting with AI\n",
    "CONTENT = df['CONTENT'].tolist() \n",
    "CLASS = df['CLASS'].tolist()\n",
    "LABEL = df['LABEL'].tolist()\n",
    "\n",
    "#Classifying them in dict for later use. - Storing in METADATA.json\n",
    "label_legend = {'ham': 0, 'spam': 1} \n",
    "label_legend_inverted = {f\"{v}\": k for k, v in label_legend.items()}\n"
   ]
  },
  {
   "cell_type": "code",
   "execution_count": 167,
   "id": "81f0cfef",
   "metadata": {},
   "outputs": [],
   "source": [
    "random_idx = random.randint(0, len(CLASS))\n",
    "\n",
    "\n",
    "#Assert test to see if indexing is correct displaced through df dataframe. \n",
    "#Testing both CONTENT and LABEL\\CLASS settings. \n",
    "assert CONTENT[random_idx] == df.iloc[random_idx].CONTENT\n",
    "assert LABEL[random_idx]   == df.iloc[random_idx].LABEL\n",
    "assert CLASS[random_idx]   == df.iloc[random_idx].CLASS"
   ]
  },
  {
   "cell_type": "code",
   "execution_count": 168,
   "id": "ef8ad990",
   "metadata": {},
   "outputs": [],
   "source": [
    "from tensorflow.keras.preprocessing.text import Tokenizer"
   ]
  },
  {
   "cell_type": "code",
   "execution_count": 169,
   "id": "9c45d60a",
   "metadata": {},
   "outputs": [],
   "source": [
    "MAX_NUM_WORDS = 1000"
   ]
  },
  {
   "cell_type": "code",
   "execution_count": 170,
   "id": "96c966fb",
   "metadata": {},
   "outputs": [
    {
     "name": "stdout",
     "output_type": "stream",
     "text": [
      "Hey what how about your project. Started aha da.\n",
      "[94, 61, 53, 89, 18, 863, 403, 130]\n"
     ]
    }
   ],
   "source": [
    "tokenizer = Tokenizer(num_words=MAX_NUM_WORDS)\n",
    "tokenizer.fit_on_texts(CONTENT)\n",
    "sequences = tokenizer.texts_to_sequences(CONTENT)\n",
    "\n",
    "random_idx = random.randint(0, len(CLASS))\n",
    "list_1 = sequences[random_idx]\n",
    "\n",
    "print(CONTENT[random_idx])\n",
    "print(sequences[random_idx])"
   ]
  },
  {
   "cell_type": "code",
   "execution_count": 171,
   "id": "070c6dad",
   "metadata": {},
   "outputs": [],
   "source": [
    "word_index = tokenizer.word_index"
   ]
  },
  {
   "cell_type": "code",
   "execution_count": 172,
   "id": "cc4e28fa",
   "metadata": {},
   "outputs": [
    {
     "name": "stdout",
     "output_type": "stream",
     "text": [
      "['hey', 'what', 'how', 'about', 'your', 'project', 'started', 'da']\n"
     ]
    }
   ],
   "source": [
    "\n",
    "listOfKeys = []\n",
    "for i in list_1:\n",
    "    for (key, value) in word_index.items():\n",
    "        if value == i:\n",
    "            listOfKeys.append(key)      \n",
    "print(listOfKeys)\n"
   ]
  },
  {
   "cell_type": "code",
   "execution_count": 173,
   "id": "f62a76f6",
   "metadata": {},
   "outputs": [],
   "source": [
    "from tensorflow.keras.preprocessing.sequence import pad_sequences"
   ]
  },
  {
   "cell_type": "code",
   "execution_count": 174,
   "id": "e5c0e11f",
   "metadata": {},
   "outputs": [],
   "source": [
    "MAX_SEQ_LEN = 500"
   ]
  },
  {
   "cell_type": "code",
   "execution_count": 175,
   "id": "385eff74",
   "metadata": {},
   "outputs": [],
   "source": [
    "#Creating X-data by using pad_sequences - For matching length of text and vectorizing them according\n",
    "#to number of iterations a word is used. \n",
    "X = pad_sequences(sequences, maxlen = MAX_SEQ_LEN) #Features\n"
   ]
  },
  {
   "cell_type": "code",
   "execution_count": 176,
   "id": "d3647bf8",
   "metadata": {},
   "outputs": [],
   "source": [
    "from tensorflow.keras.utils import to_categorical\n",
    "import numpy as np"
   ]
  },
  {
   "cell_type": "code",
   "execution_count": 177,
   "id": "efc0fde4",
   "metadata": {},
   "outputs": [],
   "source": [
    "CLASS_INT = np.asarray(CLASS)\n",
    "y = to_categorical(CLASS_INT) #Outputs"
   ]
  },
  {
   "cell_type": "code",
   "execution_count": 178,
   "id": "9535d6ad",
   "metadata": {},
   "outputs": [],
   "source": [
    "from sklearn.model_selection import train_test_split"
   ]
  },
  {
   "cell_type": "code",
   "execution_count": 179,
   "id": "0eac5821",
   "metadata": {},
   "outputs": [],
   "source": [
    "X_train, X_test, y_train, y_test = train_test_split(X, y, test_size=0.33, random_state= 42)"
   ]
  },
  {
   "cell_type": "code",
   "execution_count": 180,
   "id": "4ad38dad",
   "metadata": {},
   "outputs": [],
   "source": [
    "import pickle"
   ]
  },
  {
   "cell_type": "code",
   "execution_count": 182,
   "id": "7cfffda7",
   "metadata": {},
   "outputs": [
    {
     "data": {
      "text/plain": [
       "1090336"
      ]
     },
     "execution_count": 182,
     "metadata": {},
     "output_type": "execute_result"
    }
   ],
   "source": [
    "training_data = {\n",
    "    'X_train':X_train,\n",
    "    'X_test':X_test,\n",
    "    'y_train':y_train,\n",
    "    'y_test':y_test, \n",
    "    'max_words': MAX_NUM_WORDS, \n",
    "    'max_seq_len': MAX_SEQ_LEN, \n",
    "    'label_legend': label_legend,\n",
    "    'label_legend_inverted': label_legend_inverted,\n",
    "    'tokenizer': tokenizer \n",
    "}\n",
    "\n",
    "tokenizer_json = tokenizer.to_json()\n",
    "TOKENIZER_EXPORT_PATH.write_text(tokenizer_json) #Loading TOKENIZER DATA TO CORRECT PATH AS JSON"
   ]
  },
  {
   "cell_type": "code",
   "execution_count": 183,
   "id": "1d1b8f41",
   "metadata": {},
   "outputs": [
    {
     "data": {
      "text/plain": [
       "{'label_legend_inverted': {'0': 'ham', '1': 'spam'},\n",
       " 'label_legend': {'ham': 0, 'spam': 1},\n",
       " 'max_words': 1000,\n",
       " 'max_seq_len': 500}"
      ]
     },
     "execution_count": 183,
     "metadata": {},
     "output_type": "execute_result"
    }
   ],
   "source": [
    "METADATA = {\n",
    "    'label_legend_inverted': label_legend_inverted,\n",
    "    'label_legend': label_legend,\n",
    "    'max_words': MAX_NUM_WORDS, \n",
    "    'max_seq_len': MAX_SEQ_LEN, \n",
    "}\n",
    "METADATA"
   ]
  },
  {
   "cell_type": "code",
   "execution_count": 184,
   "id": "1635d643",
   "metadata": {},
   "outputs": [],
   "source": [
    "import json"
   ]
  },
  {
   "cell_type": "code",
   "execution_count": 189,
   "id": "22da022a",
   "metadata": {},
   "outputs": [],
   "source": [
    "with open (METADATA_EXPORT_PATH, \"w\", encoding=\"utf8\") as f:\n",
    "    json.dump(METADATA, f)\n",
    "\n",
    "\n",
    "with open(METADATA_EXPORT_PATH_pkl, 'wb') as f:\n",
    "    pickle.dump(training_data, f)\n",
    "\n"
   ]
  },
  {
   "cell_type": "code",
   "execution_count": null,
   "id": "7b5c489f",
   "metadata": {},
   "outputs": [],
   "source": [
    "\n"
   ]
  },
  {
   "cell_type": "code",
   "execution_count": null,
   "id": "04906961",
   "metadata": {},
   "outputs": [],
   "source": []
  },
  {
   "cell_type": "code",
   "execution_count": null,
   "id": "f58eae3d",
   "metadata": {},
   "outputs": [],
   "source": []
  }
 ],
 "metadata": {
  "kernelspec": {
   "display_name": "Python 3 (ipykernel)",
   "language": "python",
   "name": "python3"
  },
  "language_info": {
   "codemirror_mode": {
    "name": "ipython",
    "version": 3
   },
   "file_extension": ".py",
   "mimetype": "text/x-python",
   "name": "python",
   "nbconvert_exporter": "python",
   "pygments_lexer": "ipython3",
   "version": "3.8.9"
  }
 },
 "nbformat": 4,
 "nbformat_minor": 5
}
