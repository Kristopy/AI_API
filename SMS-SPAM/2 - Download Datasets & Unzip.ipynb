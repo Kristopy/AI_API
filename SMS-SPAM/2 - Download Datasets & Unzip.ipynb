{
 "cells": [
  {
   "cell_type": "code",
   "execution_count": 3,
   "id": "05401d8c",
   "metadata": {},
   "outputs": [],
   "source": [
    "import pathlib\n",
    "\n",
    "BASE_DIR = pathlib.Path().resolve().parent #Check: /Users/kristoffervarslott/Documents/Python.py/AI_API\n",
    "SMS_SPAM_DIR = pathlib.Path().resolve()    #Check: /Users/kristoffervarslott/Documents/Python.py/AI_API/SMS-SPAM\n",
    "\n",
    "DATASETS_DIR = BASE_DIR / 'Datasets' #Check: /Users/kristoffervarslott/Documents/Python.py/AI_API/Datasets\n",
    "ZIPS_DIR = DATASETS_DIR / 'Zips'     #Check: /Users/kristoffervarslott/Documents/Python.py/AI_API/Datasets/Zips\n",
    "\n",
    "ZIPS_DIR.mkdir(exist_ok = True, parents = True)\n",
    "\n",
    "SPAM_SMS_ZIP_PATH = ZIPS_DIR / 'sms-spam-dataset.zip'\n",
    "SPAM_YOUTUBE_ZIP_PATH = ZIPS_DIR / 'youtube-spam-dataset.zip'"
   ]
  },
  {
   "cell_type": "code",
   "execution_count": 4,
   "id": "3e7c9d53",
   "metadata": {},
   "outputs": [],
   "source": [
    "SMS_SPAM_ZIP = 'https://archive.ics.uci.edu/ml/machine-learning-databases/00228/smsspamcollection.zip'\n",
    "YOUTUBE_SPAM_ZIP = 'https://archive.ics.uci.edu/ml/machine-learning-databases/00380/YouTube-Spam-Collection-v1.zip'"
   ]
  },
  {
   "cell_type": "code",
   "execution_count": 5,
   "id": "8b47d344",
   "metadata": {},
   "outputs": [
    {
     "name": "stdout",
     "output_type": "stream",
     "text": [
      "  % Total    % Received % Xferd  Average Speed   Time    Time     Time  Current\n",
      "                                 Dload  Upload   Total   Spent    Left  Speed\n",
      "100  198k  100  198k    0     0   143k      0  0:00:01  0:00:01 --:--:--  143k\n",
      "  % Total    % Received % Xferd  Average Speed   Time    Time     Time  Current\n",
      "                                 Dload  Upload   Total   Spent    Left  Speed\n",
      "100  159k  100  159k    0     0      0      0 --:--:-- --:--:-- --:--:--     0    0   118k      0  0:00:01  0:00:01 --:--:--  118k\n"
     ]
    }
   ],
   "source": [
    "!curl $SMS_SPAM_ZIP -o $SPAM_SMS_ZIP_PATH\n",
    "!curl $YOUTUBE_SPAM_ZIP -o $SPAM_YOUTUBE_ZIP_PATH\n"
   ]
  },
  {
   "cell_type": "code",
   "execution_count": 6,
   "id": "9913fb6f",
   "metadata": {},
   "outputs": [],
   "source": [
    "SPAM_CLASSIFIER_DIR = DATASETS_DIR / 'Spam-Classifier'\n",
    "SMS_SPAM_DIR = SPAM_CLASSIFIER_DIR / 'Sms-Spam'\n",
    "YOUTUBE_SPAM_DIR = SPAM_CLASSIFIER_DIR / 'Youtube-Spam'\n",
    "\n",
    "SMS_SPAM_DIR.mkdir(exist_ok = True, parents = True)\n",
    "YOUTUBE_SPAM_DIR.mkdir(exist_ok = True, parents = True)"
   ]
  },
  {
   "cell_type": "code",
   "execution_count": 8,
   "id": "ceacc44b",
   "metadata": {},
   "outputs": [
    {
     "name": "stdout",
     "output_type": "stream",
     "text": [
      "Archive:  /Users/kristoffervarslott/Documents/Python.py/AI_API/Datasets/Zips/sms-spam-dataset.zip\n",
      "  inflating: /Users/kristoffervarslott/Documents/Python.py/AI_API/Datasets/Spam-Classifier/Sms-Spam/SMSSpamCollection  \n",
      "  inflating: /Users/kristoffervarslott/Documents/Python.py/AI_API/Datasets/Spam-Classifier/Sms-Spam/readme  \n",
      "Archive:  /Users/kristoffervarslott/Documents/Python.py/AI_API/Datasets/Zips/youtube-spam-dataset.zip\n",
      "  inflating: /Users/kristoffervarslott/Documents/Python.py/AI_API/Datasets/Spam-Classifier/Youtube-Spam/Youtube01-Psy.csv  \n",
      "   creating: /Users/kristoffervarslott/Documents/Python.py/AI_API/Datasets/Spam-Classifier/Youtube-Spam/__MACOSX/\n",
      "  inflating: /Users/kristoffervarslott/Documents/Python.py/AI_API/Datasets/Spam-Classifier/Youtube-Spam/__MACOSX/._Youtube01-Psy.csv  \n",
      "  inflating: /Users/kristoffervarslott/Documents/Python.py/AI_API/Datasets/Spam-Classifier/Youtube-Spam/Youtube02-KatyPerry.csv  \n",
      "  inflating: /Users/kristoffervarslott/Documents/Python.py/AI_API/Datasets/Spam-Classifier/Youtube-Spam/__MACOSX/._Youtube02-KatyPerry.csv  \n",
      "  inflating: /Users/kristoffervarslott/Documents/Python.py/AI_API/Datasets/Spam-Classifier/Youtube-Spam/Youtube03-LMFAO.csv  \n",
      "  inflating: /Users/kristoffervarslott/Documents/Python.py/AI_API/Datasets/Spam-Classifier/Youtube-Spam/__MACOSX/._Youtube03-LMFAO.csv  \n",
      "  inflating: /Users/kristoffervarslott/Documents/Python.py/AI_API/Datasets/Spam-Classifier/Youtube-Spam/Youtube04-Eminem.csv  \n",
      "  inflating: /Users/kristoffervarslott/Documents/Python.py/AI_API/Datasets/Spam-Classifier/Youtube-Spam/__MACOSX/._Youtube04-Eminem.csv  \n",
      "  inflating: /Users/kristoffervarslott/Documents/Python.py/AI_API/Datasets/Spam-Classifier/Youtube-Spam/Youtube05-Shakira.csv  \n",
      "  inflating: /Users/kristoffervarslott/Documents/Python.py/AI_API/Datasets/Spam-Classifier/Youtube-Spam/__MACOSX/._Youtube05-Shakira.csv  \n"
     ]
    }
   ],
   "source": [
    "!unzip -o $SPAM_SMS_ZIP_PATH -d $SMS_SPAM_DIR\n",
    "!unzip -o $SPAM_YOUTUBE_ZIP_PATH -d $YOUTUBE_SPAM_DIR"
   ]
  },
  {
   "cell_type": "code",
   "execution_count": null,
   "id": "4bf955e3",
   "metadata": {},
   "outputs": [],
   "source": []
  }
 ],
 "metadata": {
  "kernelspec": {
   "display_name": "Python 3 (ipykernel)",
   "language": "python",
   "name": "python3"
  },
  "language_info": {
   "codemirror_mode": {
    "name": "ipython",
    "version": 3
   },
   "file_extension": ".py",
   "mimetype": "text/x-python",
   "name": "python",
   "nbconvert_exporter": "python",
   "pygments_lexer": "ipython3",
   "version": "3.8.9"
  }
 },
 "nbformat": 4,
 "nbformat_minor": 5
}
